{
 "cells": [
  {
   "cell_type": "code",
   "execution_count": null,
   "id": "df688c6c",
   "metadata": {},
   "outputs": [],
   "source": [
    "#import libraries \n",
    "import pandas  as pd\n",
    "import numpy as np\n",
    "import seaborn as  sns\n",
    "\n"
   ]
  },
  {
   "cell_type": "code",
   "execution_count": null,
   "id": "1ffbca9f",
   "metadata": {},
   "outputs": [],
   "source": [
    "#load the data.\n",
    "df = pd.read_csv(\"employee_data_1000.csv\")"
   ]
  },
  {
   "cell_type": "code",
   "execution_count": 3,
   "id": "b3cf53a6",
   "metadata": {},
   "outputs": [
    {
     "data": {
      "text/html": [
       "<div>\n",
       "<style scoped>\n",
       "    .dataframe tbody tr th:only-of-type {\n",
       "        vertical-align: middle;\n",
       "    }\n",
       "\n",
       "    .dataframe tbody tr th {\n",
       "        vertical-align: top;\n",
       "    }\n",
       "\n",
       "    .dataframe thead th {\n",
       "        text-align: right;\n",
       "    }\n",
       "</style>\n",
       "<table border=\"1\" class=\"dataframe\">\n",
       "  <thead>\n",
       "    <tr style=\"text-align: right;\">\n",
       "      <th></th>\n",
       "      <th>ID</th>\n",
       "      <th>Name</th>\n",
       "      <th>Age</th>\n",
       "      <th>Gender</th>\n",
       "      <th>Salary</th>\n",
       "      <th>Joining Date</th>\n",
       "      <th>Is Active</th>\n",
       "      <th>Comments</th>\n",
       "    </tr>\n",
       "  </thead>\n",
       "  <tbody>\n",
       "    <tr>\n",
       "      <th>0</th>\n",
       "      <td>1</td>\n",
       "      <td>Paul_1</td>\n",
       "      <td>25</td>\n",
       "      <td>Female</td>\n",
       "      <td>90041.86</td>\n",
       "      <td>2017-01-31</td>\n",
       "      <td>False</td>\n",
       "      <td>Creative</td>\n",
       "    </tr>\n",
       "    <tr>\n",
       "      <th>1</th>\n",
       "      <td>2</td>\n",
       "      <td>Paul_2</td>\n",
       "      <td>31</td>\n",
       "      <td>Male</td>\n",
       "      <td>90285.02</td>\n",
       "      <td>2019-05-29</td>\n",
       "      <td>False</td>\n",
       "      <td>Needs Improvement</td>\n",
       "    </tr>\n",
       "    <tr>\n",
       "      <th>2</th>\n",
       "      <td>3</td>\n",
       "      <td>Rachel_3</td>\n",
       "      <td>30</td>\n",
       "      <td>Male</td>\n",
       "      <td>84321.65</td>\n",
       "      <td>2022-12-14</td>\n",
       "      <td>False</td>\n",
       "      <td>Hardworking</td>\n",
       "    </tr>\n",
       "    <tr>\n",
       "      <th>3</th>\n",
       "      <td>4</td>\n",
       "      <td>Bob_4</td>\n",
       "      <td>45</td>\n",
       "      <td>Male</td>\n",
       "      <td>68189.99</td>\n",
       "      <td>2023-09-05</td>\n",
       "      <td>True</td>\n",
       "      <td>Fast Learner</td>\n",
       "    </tr>\n",
       "    <tr>\n",
       "      <th>4</th>\n",
       "      <td>5</td>\n",
       "      <td>Eve_5</td>\n",
       "      <td>34</td>\n",
       "      <td>Male</td>\n",
       "      <td>35428.35</td>\n",
       "      <td>2018-05-19</td>\n",
       "      <td>True</td>\n",
       "      <td>Dedicated</td>\n",
       "    </tr>\n",
       "  </tbody>\n",
       "</table>\n",
       "</div>"
      ],
      "text/plain": [
       "   ID      Name  Age  Gender    Salary Joining Date  Is Active  \\\n",
       "0   1    Paul_1   25  Female  90041.86   2017-01-31      False   \n",
       "1   2    Paul_2   31    Male  90285.02   2019-05-29      False   \n",
       "2   3  Rachel_3   30    Male  84321.65   2022-12-14      False   \n",
       "3   4     Bob_4   45    Male  68189.99   2023-09-05       True   \n",
       "4   5     Eve_5   34    Male  35428.35   2018-05-19       True   \n",
       "\n",
       "            Comments  \n",
       "0           Creative  \n",
       "1  Needs Improvement  \n",
       "2        Hardworking  \n",
       "3       Fast Learner  \n",
       "4          Dedicated  "
      ]
     },
     "execution_count": 3,
     "metadata": {},
     "output_type": "execute_result"
    }
   ],
   "source": [
    "#To print the first five rows of data\n",
    "\n",
    "df.head()"
   ]
  },
  {
   "cell_type": "code",
   "execution_count": 4,
   "id": "3b47c5af",
   "metadata": {},
   "outputs": [
    {
     "data": {
      "text/plain": [
       "(1000, 8)"
      ]
     },
     "execution_count": 4,
     "metadata": {},
     "output_type": "execute_result"
    }
   ],
   "source": [
    "#To check the shape of data\n",
    "df.shape"
   ]
  },
  {
   "cell_type": "code",
   "execution_count": 5,
   "id": "3cf2992b",
   "metadata": {},
   "outputs": [
    {
     "data": {
      "text/html": [
       "<div>\n",
       "<style scoped>\n",
       "    .dataframe tbody tr th:only-of-type {\n",
       "        vertical-align: middle;\n",
       "    }\n",
       "\n",
       "    .dataframe tbody tr th {\n",
       "        vertical-align: top;\n",
       "    }\n",
       "\n",
       "    .dataframe thead th {\n",
       "        text-align: right;\n",
       "    }\n",
       "</style>\n",
       "<table border=\"1\" class=\"dataframe\">\n",
       "  <thead>\n",
       "    <tr style=\"text-align: right;\">\n",
       "      <th></th>\n",
       "      <th>ID</th>\n",
       "      <th>Age</th>\n",
       "      <th>Salary</th>\n",
       "    </tr>\n",
       "  </thead>\n",
       "  <tbody>\n",
       "    <tr>\n",
       "      <th>count</th>\n",
       "      <td>1000.000000</td>\n",
       "      <td>1000.000000</td>\n",
       "      <td>1000.000000</td>\n",
       "    </tr>\n",
       "    <tr>\n",
       "      <th>mean</th>\n",
       "      <td>500.500000</td>\n",
       "      <td>33.000000</td>\n",
       "      <td>73653.374000</td>\n",
       "    </tr>\n",
       "    <tr>\n",
       "      <th>std</th>\n",
       "      <td>288.819436</td>\n",
       "      <td>6.666667</td>\n",
       "      <td>20746.852382</td>\n",
       "    </tr>\n",
       "    <tr>\n",
       "      <th>min</th>\n",
       "      <td>1.000000</td>\n",
       "      <td>25.000000</td>\n",
       "      <td>35428.350000</td>\n",
       "    </tr>\n",
       "    <tr>\n",
       "      <th>25%</th>\n",
       "      <td>250.750000</td>\n",
       "      <td>30.000000</td>\n",
       "      <td>68189.990000</td>\n",
       "    </tr>\n",
       "    <tr>\n",
       "      <th>50%</th>\n",
       "      <td>500.500000</td>\n",
       "      <td>31.000000</td>\n",
       "      <td>84321.650000</td>\n",
       "    </tr>\n",
       "    <tr>\n",
       "      <th>75%</th>\n",
       "      <td>750.250000</td>\n",
       "      <td>34.000000</td>\n",
       "      <td>90041.860000</td>\n",
       "    </tr>\n",
       "    <tr>\n",
       "      <th>max</th>\n",
       "      <td>1000.000000</td>\n",
       "      <td>45.000000</td>\n",
       "      <td>90285.020000</td>\n",
       "    </tr>\n",
       "  </tbody>\n",
       "</table>\n",
       "</div>"
      ],
      "text/plain": [
       "                ID          Age        Salary\n",
       "count  1000.000000  1000.000000   1000.000000\n",
       "mean    500.500000    33.000000  73653.374000\n",
       "std     288.819436     6.666667  20746.852382\n",
       "min       1.000000    25.000000  35428.350000\n",
       "25%     250.750000    30.000000  68189.990000\n",
       "50%     500.500000    31.000000  84321.650000\n",
       "75%     750.250000    34.000000  90041.860000\n",
       "max    1000.000000    45.000000  90285.020000"
      ]
     },
     "execution_count": 5,
     "metadata": {},
     "output_type": "execute_result"
    }
   ],
   "source": [
    "df.describe()"
   ]
  },
  {
   "cell_type": "code",
   "execution_count": 6,
   "id": "44270345",
   "metadata": {},
   "outputs": [
    {
     "name": "stdout",
     "output_type": "stream",
     "text": [
      "Empty DataFrame\n",
      "Columns: [ID, Name, Age, Gender, Salary, Joining Date, Is Active, Comments]\n",
      "Index: []\n"
     ]
    }
   ],
   "source": [
    "duplicates = df[df.duplicated()]\n",
    "print(duplicates)"
   ]
  },
  {
   "cell_type": "code",
   "execution_count": 7,
   "id": "d4e80ec3",
   "metadata": {},
   "outputs": [
    {
     "data": {
      "text/plain": [
       "ID              0\n",
       "Name            0\n",
       "Age             0\n",
       "Gender          0\n",
       "Salary          0\n",
       "Joining Date    0\n",
       "Is Active       0\n",
       "Comments        0\n",
       "dtype: int64"
      ]
     },
     "execution_count": 7,
     "metadata": {},
     "output_type": "execute_result"
    }
   ],
   "source": [
    "# to check the null value\n",
    "df.isnull().sum()"
   ]
  },
  {
   "cell_type": "code",
   "execution_count": 8,
   "id": "53124c25",
   "metadata": {},
   "outputs": [
    {
     "data": {
      "text/plain": [
       "ID                int64\n",
       "Name             object\n",
       "Age               int64\n",
       "Gender           object\n",
       "Salary          float64\n",
       "Joining Date     object\n",
       "Is Active          bool\n",
       "Comments         object\n",
       "dtype: object"
      ]
     },
     "execution_count": 8,
     "metadata": {},
     "output_type": "execute_result"
    }
   ],
   "source": [
    "# to check the datatype \n",
    "df.dtypes"
   ]
  },
  {
   "cell_type": "code",
   "execution_count": 9,
   "id": "d5cf8699",
   "metadata": {},
   "outputs": [],
   "source": [
    "# Fill the missing values if they are missing\n",
    "# Numerical data fill with median.\n",
    "df['Age']= df['Age'].fillna(df['Age'].median())\n",
    "df['Salary'] = df['Salary'].fillna(df['Salary'].median())"
   ]
  },
  {
   "cell_type": "code",
   "execution_count": 10,
   "id": "e072d9de",
   "metadata": {},
   "outputs": [],
   "source": [
    "# if name or gender is missing fill with most common value like that mode\n",
    "df['Name'] = df['Name'].fillna(df['Name'].mode()[0])\n",
    "df['Gender'] = df['Gender'].fillna(df['Gender'].mode()[0])"
   ]
  },
  {
   "cell_type": "code",
   "execution_count": 11,
   "id": "a0cfcf21",
   "metadata": {},
   "outputs": [],
   "source": [
    "#if is active is missing then fill with mode\n",
    "df['Is Active'] = df['Is Active'].fillna(df['Is Active'].mode()[0])"
   ]
  },
  {
   "cell_type": "code",
   "execution_count": 12,
   "id": "8f9f0bb7",
   "metadata": {},
   "outputs": [],
   "source": [
    "# if comments are missing fill with unkown\n",
    "df['Comments'] = df['Comments'].fillna(\"Unkown\")\n"
   ]
  },
  {
   "cell_type": "code",
   "execution_count": 13,
   "id": "504d987b",
   "metadata": {},
   "outputs": [],
   "source": [
    "# if joining date is missing fill with the earliest date in column\n",
    "df['Joining Date'] = df['Joining Date'].fillna(df['Joining Date'].min())"
   ]
  },
  {
   "cell_type": "markdown",
   "id": "44145662",
   "metadata": {},
   "source": [
    "### Label Encoding\n",
    "For categorical variables, we can use label encoding to `convert them into numerical values`. This is useful for algorithms that require numerical input.\n",
    "\n"
   ]
  },
  {
   "cell_type": "code",
   "execution_count": 14,
   "id": "07677a1b",
   "metadata": {},
   "outputs": [
    {
     "name": "stdout",
     "output_type": "stream",
     "text": [
      "   ID    Name  Age  Gender    Salary Joining Date  Is Active  \\\n",
      "0   1  Paul_1   25       0  90041.86   2017-01-31          0   \n",
      "1   2  Paul_2   31       1  90285.02   2019-05-29          0   \n",
      "\n",
      "            Comments  \n",
      "0           Creative  \n",
      "1  Needs Improvement  \n"
     ]
    }
   ],
   "source": [
    "from sklearn.preprocessing import LabelEncoder\n",
    "\n",
    "le = LabelEncoder()\n",
    "df['Gender'] = le.fit_transform(df['Gender'])\n",
    "df['Is Active'] = le.fit_transform(df['Is Active'])\n",
    "\n",
    "print(df.head(2))"
   ]
  },
  {
   "cell_type": "markdown",
   "id": "543e2bc3",
   "metadata": {},
   "source": [
    "### One hot encoding\n",
    "One hot encoding is a technique to convert categorical variables into a format that can be provided to ML algorithms to do a better job in prediction. It creates binary columns for each category and returns a sparse matrix or dense array.\n",
    "\n"
   ]
  },
  {
   "cell_type": "code",
   "execution_count": 15,
   "id": "438012c7",
   "metadata": {},
   "outputs": [
    {
     "data": {
      "text/html": [
       "<div>\n",
       "<style scoped>\n",
       "    .dataframe tbody tr th:only-of-type {\n",
       "        vertical-align: middle;\n",
       "    }\n",
       "\n",
       "    .dataframe tbody tr th {\n",
       "        vertical-align: top;\n",
       "    }\n",
       "\n",
       "    .dataframe thead th {\n",
       "        text-align: right;\n",
       "    }\n",
       "</style>\n",
       "<table border=\"1\" class=\"dataframe\">\n",
       "  <thead>\n",
       "    <tr style=\"text-align: right;\">\n",
       "      <th></th>\n",
       "      <th>Is Active_0</th>\n",
       "      <th>Is Active_1</th>\n",
       "    </tr>\n",
       "  </thead>\n",
       "  <tbody>\n",
       "    <tr>\n",
       "      <th>0</th>\n",
       "      <td>True</td>\n",
       "      <td>False</td>\n",
       "    </tr>\n",
       "    <tr>\n",
       "      <th>1</th>\n",
       "      <td>True</td>\n",
       "      <td>False</td>\n",
       "    </tr>\n",
       "    <tr>\n",
       "      <th>2</th>\n",
       "      <td>True</td>\n",
       "      <td>False</td>\n",
       "    </tr>\n",
       "    <tr>\n",
       "      <th>3</th>\n",
       "      <td>False</td>\n",
       "      <td>True</td>\n",
       "    </tr>\n",
       "    <tr>\n",
       "      <th>4</th>\n",
       "      <td>False</td>\n",
       "      <td>True</td>\n",
       "    </tr>\n",
       "  </tbody>\n",
       "</table>\n",
       "</div>"
      ],
      "text/plain": [
       "   Is Active_0  Is Active_1\n",
       "0         True        False\n",
       "1         True        False\n",
       "2         True        False\n",
       "3        False         True\n",
       "4        False         True"
      ]
     },
     "execution_count": 15,
     "metadata": {},
     "output_type": "execute_result"
    }
   ],
   "source": [
    "# apply pd.get dummies for  one hot encoding\n",
    "encoded = pd.get_dummies(df['Is Active'], prefix= 'Is Active')\n",
    "\n",
    "encoded.head()\n"
   ]
  },
  {
   "cell_type": "markdown",
   "id": "32412240",
   "metadata": {},
   "source": [
    "Now we need to concate these columns with the original dataframe. We can use the `pd.concat()` function to do this.\n",
    "```python"
   ]
  },
  {
   "cell_type": "code",
   "execution_count": 16,
   "id": "7d5bd244",
   "metadata": {},
   "outputs": [],
   "source": [
    "df = pd.concat([df , encoded] , axis = 1).drop (columns=['Is Active'])\n"
   ]
  },
  {
   "cell_type": "code",
   "execution_count": 17,
   "id": "6994b5a9",
   "metadata": {},
   "outputs": [
    {
     "data": {
      "text/html": [
       "<div>\n",
       "<style scoped>\n",
       "    .dataframe tbody tr th:only-of-type {\n",
       "        vertical-align: middle;\n",
       "    }\n",
       "\n",
       "    .dataframe tbody tr th {\n",
       "        vertical-align: top;\n",
       "    }\n",
       "\n",
       "    .dataframe thead th {\n",
       "        text-align: right;\n",
       "    }\n",
       "</style>\n",
       "<table border=\"1\" class=\"dataframe\">\n",
       "  <thead>\n",
       "    <tr style=\"text-align: right;\">\n",
       "      <th></th>\n",
       "      <th>ID</th>\n",
       "      <th>Name</th>\n",
       "      <th>Age</th>\n",
       "      <th>Gender</th>\n",
       "      <th>Salary</th>\n",
       "      <th>Joining Date</th>\n",
       "      <th>Comments</th>\n",
       "      <th>Is Active_0</th>\n",
       "      <th>Is Active_1</th>\n",
       "    </tr>\n",
       "  </thead>\n",
       "  <tbody>\n",
       "    <tr>\n",
       "      <th>0</th>\n",
       "      <td>1</td>\n",
       "      <td>Paul_1</td>\n",
       "      <td>25</td>\n",
       "      <td>0</td>\n",
       "      <td>90041.86</td>\n",
       "      <td>2017-01-31</td>\n",
       "      <td>Creative</td>\n",
       "      <td>True</td>\n",
       "      <td>False</td>\n",
       "    </tr>\n",
       "    <tr>\n",
       "      <th>1</th>\n",
       "      <td>2</td>\n",
       "      <td>Paul_2</td>\n",
       "      <td>31</td>\n",
       "      <td>1</td>\n",
       "      <td>90285.02</td>\n",
       "      <td>2019-05-29</td>\n",
       "      <td>Needs Improvement</td>\n",
       "      <td>True</td>\n",
       "      <td>False</td>\n",
       "    </tr>\n",
       "    <tr>\n",
       "      <th>2</th>\n",
       "      <td>3</td>\n",
       "      <td>Rachel_3</td>\n",
       "      <td>30</td>\n",
       "      <td>1</td>\n",
       "      <td>84321.65</td>\n",
       "      <td>2022-12-14</td>\n",
       "      <td>Hardworking</td>\n",
       "      <td>True</td>\n",
       "      <td>False</td>\n",
       "    </tr>\n",
       "  </tbody>\n",
       "</table>\n",
       "</div>"
      ],
      "text/plain": [
       "   ID      Name  Age  Gender    Salary Joining Date           Comments  \\\n",
       "0   1    Paul_1   25       0  90041.86   2017-01-31           Creative   \n",
       "1   2    Paul_2   31       1  90285.02   2019-05-29  Needs Improvement   \n",
       "2   3  Rachel_3   30       1  84321.65   2022-12-14        Hardworking   \n",
       "\n",
       "   Is Active_0  Is Active_1  \n",
       "0         True        False  \n",
       "1         True        False  \n",
       "2         True        False  "
      ]
     },
     "execution_count": 17,
     "metadata": {},
     "output_type": "execute_result"
    }
   ],
   "source": [
    "df.head(3)"
   ]
  },
  {
   "cell_type": "markdown",
   "id": "8a89a83f",
   "metadata": {},
   "source": [
    "## Lecture 5"
   ]
  },
  {
   "cell_type": "markdown",
   "id": "46ad7f6f",
   "metadata": {},
   "source": [
    "### normalize and scaling "
   ]
  },
  {
   "cell_type": "code",
   "execution_count": 27,
   "id": "a8cf0f21",
   "metadata": {},
   "outputs": [
    {
     "data": {
      "text/html": [
       "<div>\n",
       "<style scoped>\n",
       "    .dataframe tbody tr th:only-of-type {\n",
       "        vertical-align: middle;\n",
       "    }\n",
       "\n",
       "    .dataframe tbody tr th {\n",
       "        vertical-align: top;\n",
       "    }\n",
       "\n",
       "    .dataframe thead th {\n",
       "        text-align: right;\n",
       "    }\n",
       "</style>\n",
       "<table border=\"1\" class=\"dataframe\">\n",
       "  <thead>\n",
       "    <tr style=\"text-align: right;\">\n",
       "      <th></th>\n",
       "      <th>ID</th>\n",
       "      <th>Name</th>\n",
       "      <th>Age</th>\n",
       "      <th>Gender</th>\n",
       "      <th>Salary</th>\n",
       "      <th>Joining Date</th>\n",
       "      <th>Is Active</th>\n",
       "      <th>Comments</th>\n",
       "    </tr>\n",
       "  </thead>\n",
       "  <tbody>\n",
       "    <tr>\n",
       "      <th>0</th>\n",
       "      <td>1</td>\n",
       "      <td>Paul_1</td>\n",
       "      <td>25</td>\n",
       "      <td>Female</td>\n",
       "      <td>90041.86</td>\n",
       "      <td>2017-01-31</td>\n",
       "      <td>False</td>\n",
       "      <td>Creative</td>\n",
       "    </tr>\n",
       "    <tr>\n",
       "      <th>1</th>\n",
       "      <td>2</td>\n",
       "      <td>Paul_2</td>\n",
       "      <td>31</td>\n",
       "      <td>Male</td>\n",
       "      <td>90285.02</td>\n",
       "      <td>2019-05-29</td>\n",
       "      <td>False</td>\n",
       "      <td>Needs Improvement</td>\n",
       "    </tr>\n",
       "    <tr>\n",
       "      <th>2</th>\n",
       "      <td>3</td>\n",
       "      <td>Rachel_3</td>\n",
       "      <td>30</td>\n",
       "      <td>Male</td>\n",
       "      <td>84321.65</td>\n",
       "      <td>2022-12-14</td>\n",
       "      <td>False</td>\n",
       "      <td>Hardworking</td>\n",
       "    </tr>\n",
       "  </tbody>\n",
       "</table>\n",
       "</div>"
      ],
      "text/plain": [
       "   ID      Name  Age  Gender    Salary Joining Date  Is Active  \\\n",
       "0   1    Paul_1   25  Female  90041.86   2017-01-31      False   \n",
       "1   2    Paul_2   31    Male  90285.02   2019-05-29      False   \n",
       "2   3  Rachel_3   30    Male  84321.65   2022-12-14      False   \n",
       "\n",
       "            Comments  \n",
       "0           Creative  \n",
       "1  Needs Improvement  \n",
       "2        Hardworking  "
      ]
     },
     "execution_count": 27,
     "metadata": {},
     "output_type": "execute_result"
    }
   ],
   "source": [
    "import pandas as pd\n",
    "df = pd.read_csv(\"employee_data_1000.csv\")\n",
    "df.head(3)"
   ]
  },
  {
   "cell_type": "code",
   "execution_count": 25,
   "id": "969e840e",
   "metadata": {},
   "outputs": [
    {
     "data": {
      "text/html": [
       "<div>\n",
       "<style scoped>\n",
       "    .dataframe tbody tr th:only-of-type {\n",
       "        vertical-align: middle;\n",
       "    }\n",
       "\n",
       "    .dataframe tbody tr th {\n",
       "        vertical-align: top;\n",
       "    }\n",
       "\n",
       "    .dataframe thead th {\n",
       "        text-align: right;\n",
       "    }\n",
       "</style>\n",
       "<table border=\"1\" class=\"dataframe\">\n",
       "  <thead>\n",
       "    <tr style=\"text-align: right;\">\n",
       "      <th></th>\n",
       "      <th>Age</th>\n",
       "      <th>Salary</th>\n",
       "    </tr>\n",
       "  </thead>\n",
       "  <tbody>\n",
       "    <tr>\n",
       "      <th>0</th>\n",
       "      <td>0.00</td>\n",
       "      <td>0.995567</td>\n",
       "    </tr>\n",
       "    <tr>\n",
       "      <th>1</th>\n",
       "      <td>0.30</td>\n",
       "      <td>1.000000</td>\n",
       "    </tr>\n",
       "    <tr>\n",
       "      <th>2</th>\n",
       "      <td>0.25</td>\n",
       "      <td>0.891292</td>\n",
       "    </tr>\n",
       "    <tr>\n",
       "      <th>3</th>\n",
       "      <td>1.00</td>\n",
       "      <td>0.597223</td>\n",
       "    </tr>\n",
       "    <tr>\n",
       "      <th>4</th>\n",
       "      <td>0.45</td>\n",
       "      <td>0.000000</td>\n",
       "    </tr>\n",
       "  </tbody>\n",
       "</table>\n",
       "</div>"
      ],
      "text/plain": [
       "    Age    Salary\n",
       "0  0.00  0.995567\n",
       "1  0.30  1.000000\n",
       "2  0.25  0.891292\n",
       "3  1.00  0.597223\n",
       "4  0.45  0.000000"
      ]
     },
     "execution_count": 25,
     "metadata": {},
     "output_type": "execute_result"
    }
   ],
   "source": [
    "#min max scaler convert the value in the range between \"0 \" and  \"1from sklearn.preprocessing import MinMaxScaler\n",
    "\n",
    "from sklearn.preprocessing import MinMaxScaler\n",
    "# initialize scaler\n",
    "scaler = MinMaxScaler()\n",
    "\n",
    "# Apply min max sacling to 'age' and \"salary\" column\n",
    "df[['Age' , 'Salary']] = scaler.fit_transform(df[['Age' , 'Salary']])\n",
    "\n",
    "df[['Age' , 'Salary']].head()\n"
   ]
  },
  {
   "cell_type": "code",
   "execution_count": null,
   "id": "cc1fbc2b",
   "metadata": {},
   "outputs": [
    {
     "data": {
      "text/html": [
       "<div>\n",
       "<style scoped>\n",
       "    .dataframe tbody tr th:only-of-type {\n",
       "        vertical-align: middle;\n",
       "    }\n",
       "\n",
       "    .dataframe tbody tr th {\n",
       "        vertical-align: top;\n",
       "    }\n",
       "\n",
       "    .dataframe thead th {\n",
       "        text-align: right;\n",
       "    }\n",
       "</style>\n",
       "<table border=\"1\" class=\"dataframe\">\n",
       "  <thead>\n",
       "    <tr style=\"text-align: right;\">\n",
       "      <th></th>\n",
       "      <th>Age</th>\n",
       "      <th>Salary</th>\n",
       "    </tr>\n",
       "  </thead>\n",
       "  <tbody>\n",
       "    <tr>\n",
       "      <th>0</th>\n",
       "      <td>-1.200600</td>\n",
       "      <td>0.790322</td>\n",
       "    </tr>\n",
       "    <tr>\n",
       "      <th>1</th>\n",
       "      <td>-0.300150</td>\n",
       "      <td>0.802048</td>\n",
       "    </tr>\n",
       "    <tr>\n",
       "      <th>2</th>\n",
       "      <td>-0.450225</td>\n",
       "      <td>0.514469</td>\n",
       "    </tr>\n",
       "    <tr>\n",
       "      <th>3</th>\n",
       "      <td>1.800901</td>\n",
       "      <td>-0.263467</td>\n",
       "    </tr>\n",
       "    <tr>\n",
       "      <th>4</th>\n",
       "      <td>0.150075</td>\n",
       "      <td>-1.843371</td>\n",
       "    </tr>\n",
       "  </tbody>\n",
       "</table>\n",
       "</div>"
      ],
      "text/plain": [
       "        Age    Salary\n",
       "0 -1.200600  0.790322\n",
       "1 -0.300150  0.802048\n",
       "2 -0.450225  0.514469\n",
       "3  1.800901 -0.263467\n",
       "4  0.150075 -1.843371"
      ]
     },
     "execution_count": 57,
     "metadata": {},
     "output_type": "execute_result"
    }
   ],
   "source": [
    "# In standard scaler we convert the value in 0 and -1 range\n",
    "from sklearn.preprocessing import StandardScaler\n",
    "\n",
    "scaler = StandardScaler()\n",
    "\n",
    "df[['Age' , 'Salary']] = scaler.fit_transform(df[['Age' , 'Salary']])\n",
    "\n",
    "df[['Age' , 'Salary']].head()\n"
   ]
  },
  {
   "cell_type": "markdown",
   "id": "aee89a4c",
   "metadata": {},
   "source": [
    "### Label Encoding\n",
    "Label encoding is a technique used to convert categorical variables into numerical values. This is useful for algorithms that require numerical input.\n"
   ]
  },
  {
   "cell_type": "code",
   "execution_count": 21,
   "id": "9c02998b",
   "metadata": {},
   "outputs": [
    {
     "data": {
      "text/html": [
       "<div>\n",
       "<style scoped>\n",
       "    .dataframe tbody tr th:only-of-type {\n",
       "        vertical-align: middle;\n",
       "    }\n",
       "\n",
       "    .dataframe tbody tr th {\n",
       "        vertical-align: top;\n",
       "    }\n",
       "\n",
       "    .dataframe thead th {\n",
       "        text-align: right;\n",
       "    }\n",
       "</style>\n",
       "<table border=\"1\" class=\"dataframe\">\n",
       "  <thead>\n",
       "    <tr style=\"text-align: right;\">\n",
       "      <th></th>\n",
       "      <th>Gender</th>\n",
       "      <th>Encoded_Gender</th>\n",
       "    </tr>\n",
       "  </thead>\n",
       "  <tbody>\n",
       "    <tr>\n",
       "      <th>0</th>\n",
       "      <td>Female</td>\n",
       "      <td>0</td>\n",
       "    </tr>\n",
       "    <tr>\n",
       "      <th>1</th>\n",
       "      <td>Male</td>\n",
       "      <td>1</td>\n",
       "    </tr>\n",
       "    <tr>\n",
       "      <th>2</th>\n",
       "      <td>Male</td>\n",
       "      <td>1</td>\n",
       "    </tr>\n",
       "    <tr>\n",
       "      <th>3</th>\n",
       "      <td>Male</td>\n",
       "      <td>1</td>\n",
       "    </tr>\n",
       "    <tr>\n",
       "      <th>4</th>\n",
       "      <td>Male</td>\n",
       "      <td>1</td>\n",
       "    </tr>\n",
       "  </tbody>\n",
       "</table>\n",
       "</div>"
      ],
      "text/plain": [
       "   Gender  Encoded_Gender\n",
       "0  Female               0\n",
       "1    Male               1\n",
       "2    Male               1\n",
       "3    Male               1\n",
       "4    Male               1"
      ]
     },
     "execution_count": 21,
     "metadata": {},
     "output_type": "execute_result"
    }
   ],
   "source": [
    "from sklearn.preprocessing import LabelEncoder\n",
    "\n",
    "le = LabelEncoder()\n",
    "\n",
    "df['Encoded_Gender'] = le.fit_transform (df['Gender'])\n",
    "\n",
    "# display gender encoded gender column\n",
    "df[['Gender' , 'Encoded_Gender']].head()"
   ]
  },
  {
   "cell_type": "markdown",
   "id": "159897b4",
   "metadata": {},
   "source": [
    "### One hot encoding\n",
    "One hot encoding is a technique to convert categorical variables into a format that can be provided to ML algorithms to do a better job in prediction. It creates binary columns for each category and returns a sparse matrix or dense array."
   ]
  },
  {
   "cell_type": "code",
   "execution_count": 22,
   "id": "6e51eb0c",
   "metadata": {},
   "outputs": [
    {
     "name": "stdout",
     "output_type": "stream",
     "text": [
      "   ID  Age    Salary  Is Active  Encoded_Gender  Name_Bob_109  Name_Bob_114  \\\n",
      "0   1   25  90041.86      False               0         False         False   \n",
      "1   2   31  90285.02      False               1         False         False   \n",
      "2   3   30  84321.65      False               1         False         False   \n",
      "3   4   45  68189.99       True               1         False         False   \n",
      "4   5   34  35428.35       True               1         False         False   \n",
      "\n",
      "   Name_Bob_119  Name_Bob_124  Name_Bob_129  ...  Name_Rachel_998  \\\n",
      "0         False         False         False  ...            False   \n",
      "1         False         False         False  ...            False   \n",
      "2         False         False         False  ...            False   \n",
      "3         False         False         False  ...            False   \n",
      "4         False         False         False  ...            False   \n",
      "\n",
      "   Gender_Male  Joining Date_2018-05-19  Joining Date_2019-05-29  \\\n",
      "0        False                    False                    False   \n",
      "1         True                    False                     True   \n",
      "2         True                    False                    False   \n",
      "3         True                    False                    False   \n",
      "4         True                     True                    False   \n",
      "\n",
      "   Joining Date_2022-12-14  Joining Date_2023-09-05  Comments_Dedicated  \\\n",
      "0                    False                    False               False   \n",
      "1                    False                    False               False   \n",
      "2                     True                    False               False   \n",
      "3                    False                     True               False   \n",
      "4                    False                    False                True   \n",
      "\n",
      "   Comments_Fast Learner  Comments_Hardworking  Comments_Needs Improvement  \n",
      "0                  False                 False                       False  \n",
      "1                  False                 False                        True  \n",
      "2                  False                  True                       False  \n",
      "3                   True                 False                       False  \n",
      "4                  False                 False                       False  \n",
      "\n",
      "[5 rows x 1013 columns]\n"
     ]
    }
   ],
   "source": [
    "df = pd.get_dummies(df, drop_first= True)\n",
    "\n",
    "print(df.head())"
   ]
  },
  {
   "cell_type": "markdown",
   "id": "926c7b7b",
   "metadata": {},
   "source": [
    "### Outlier detection using z-score method\n"
   ]
  },
  {
   "cell_type": "code",
   "execution_count": 35,
   "id": "0c0863cd",
   "metadata": {},
   "outputs": [
    {
     "data": {
      "text/html": [
       "<div>\n",
       "<style scoped>\n",
       "    .dataframe tbody tr th:only-of-type {\n",
       "        vertical-align: middle;\n",
       "    }\n",
       "\n",
       "    .dataframe tbody tr th {\n",
       "        vertical-align: top;\n",
       "    }\n",
       "\n",
       "    .dataframe thead th {\n",
       "        text-align: right;\n",
       "    }\n",
       "</style>\n",
       "<table border=\"1\" class=\"dataframe\">\n",
       "  <thead>\n",
       "    <tr style=\"text-align: right;\">\n",
       "      <th></th>\n",
       "      <th>ID</th>\n",
       "      <th>Name</th>\n",
       "      <th>Age</th>\n",
       "      <th>Gender</th>\n",
       "      <th>Salary</th>\n",
       "      <th>Joining Date</th>\n",
       "      <th>Is Active</th>\n",
       "      <th>Comments</th>\n",
       "    </tr>\n",
       "  </thead>\n",
       "  <tbody>\n",
       "    <tr>\n",
       "      <th>0</th>\n",
       "      <td>1</td>\n",
       "      <td>Paul_1</td>\n",
       "      <td>25</td>\n",
       "      <td>Female</td>\n",
       "      <td>90041.86</td>\n",
       "      <td>2017-01-31</td>\n",
       "      <td>False</td>\n",
       "      <td>Creative</td>\n",
       "    </tr>\n",
       "    <tr>\n",
       "      <th>1</th>\n",
       "      <td>2</td>\n",
       "      <td>Paul_2</td>\n",
       "      <td>31</td>\n",
       "      <td>Male</td>\n",
       "      <td>90285.02</td>\n",
       "      <td>2019-05-29</td>\n",
       "      <td>False</td>\n",
       "      <td>Needs Improvement</td>\n",
       "    </tr>\n",
       "    <tr>\n",
       "      <th>2</th>\n",
       "      <td>3</td>\n",
       "      <td>Rachel_3</td>\n",
       "      <td>30</td>\n",
       "      <td>Male</td>\n",
       "      <td>84321.65</td>\n",
       "      <td>2022-12-14</td>\n",
       "      <td>False</td>\n",
       "      <td>Hardworking</td>\n",
       "    </tr>\n",
       "    <tr>\n",
       "      <th>3</th>\n",
       "      <td>4</td>\n",
       "      <td>Bob_4</td>\n",
       "      <td>45</td>\n",
       "      <td>Male</td>\n",
       "      <td>68189.99</td>\n",
       "      <td>2023-09-05</td>\n",
       "      <td>True</td>\n",
       "      <td>Fast Learner</td>\n",
       "    </tr>\n",
       "    <tr>\n",
       "      <th>4</th>\n",
       "      <td>5</td>\n",
       "      <td>Eve_5</td>\n",
       "      <td>34</td>\n",
       "      <td>Male</td>\n",
       "      <td>35428.35</td>\n",
       "      <td>2018-05-19</td>\n",
       "      <td>True</td>\n",
       "      <td>Dedicated</td>\n",
       "    </tr>\n",
       "  </tbody>\n",
       "</table>\n",
       "</div>"
      ],
      "text/plain": [
       "   ID      Name  Age  Gender    Salary Joining Date  Is Active  \\\n",
       "0   1    Paul_1   25  Female  90041.86   2017-01-31      False   \n",
       "1   2    Paul_2   31    Male  90285.02   2019-05-29      False   \n",
       "2   3  Rachel_3   30    Male  84321.65   2022-12-14      False   \n",
       "3   4     Bob_4   45    Male  68189.99   2023-09-05       True   \n",
       "4   5     Eve_5   34    Male  35428.35   2018-05-19       True   \n",
       "\n",
       "            Comments  \n",
       "0           Creative  \n",
       "1  Needs Improvement  \n",
       "2        Hardworking  \n",
       "3       Fast Learner  \n",
       "4          Dedicated  "
      ]
     },
     "execution_count": 35,
     "metadata": {},
     "output_type": "execute_result"
    }
   ],
   "source": [
    "from scipy.stats import zscore\n",
    "import numpy as np\n",
    "\n",
    "# calculate z_score for age and salary column\n",
    "z_score = np.abs(df[['Age', 'Salary']])\n",
    "\n",
    "# identify rows with z_score > 3\n",
    "outliers = (z_score > 3 ).any(axis= 1)\n",
    "\n",
    "#Remove outlier  from the dataset\n",
    "df_no_outlier = df[outliers]\n",
    "\n",
    "df_no_outlier.head()"
   ]
  },
  {
   "cell_type": "code",
   "execution_count": null,
   "id": "a5666155",
   "metadata": {},
   "outputs": [],
   "source": []
  }
 ],
 "metadata": {
  "kernelspec": {
   "display_name": "mll-env",
   "language": "python",
   "name": "python3"
  },
  "language_info": {
   "codemirror_mode": {
    "name": "ipython",
    "version": 3
   },
   "file_extension": ".py",
   "mimetype": "text/x-python",
   "name": "python",
   "nbconvert_exporter": "python",
   "pygments_lexer": "ipython3",
   "version": "3.12.4"
  }
 },
 "nbformat": 4,
 "nbformat_minor": 5
}
